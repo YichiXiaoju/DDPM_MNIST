{
  "nbformat": 4,
  "nbformat_minor": 0,
  "metadata": {
    "colab": {
      "provenance": [],
      "machine_shape": "hm",
      "gpuType": "A100"
    },
    "kernelspec": {
      "name": "python3",
      "display_name": "Python 3"
    },
    "language_info": {
      "name": "python"
    },
    "accelerator": "GPU"
  },
  "cells": [
    {
      "cell_type": "markdown",
      "source": [
        "# 🚀 Introduction to Denoising Diffusion Probabilistic Models (DDPM)\n",
        "\n",
        "---\n",
        "\n",
        "## 📘 What is DDPM?\n",
        "\n",
        "**Denoising Diffusion Probabilistic Models (DDPM)** are a class of generative models that learn to model complex data distributions (e.g., images) by simulating a gradual noising and denoising process.\n",
        "\n",
        "### ✅ How it works:\n",
        "- **Forward Process:** Gradually corrupts data into pure Gaussian noise through a series of diffusion steps.\n",
        "- **Reverse Process:** A neural network learns to reverse this process — denoising step by step to generate new data.\n",
        "\n",
        "DDPM has shown impressive results in image generation tasks, achieving or surpassing the performance of GANs while offering better training stability and likelihood estimation.\n",
        "\n",
        "---\n",
        "\n",
        "## 🏗️ Techniques Used in This Project\n",
        "\n",
        "---\n",
        "\n",
        "### 🔥 1. **Sinusoidal Positional Embedding**\n",
        "\n",
        "- Encodes the discrete diffusion timestep into a continuous high-dimensional vector.\n",
        "- Provides the model with temporal awareness — it knows \"how noisy\" the input is at any point.\n",
        "- Inspired by Transformer positional encoding.\n",
        "\n",
        "---\n",
        "\n",
        "### 🔥 2. **Time-Conditional Residual Blocks**\n",
        "\n",
        "- Core component of the U-Net architecture.\n",
        "- Incorporates the time embedding into every residual block via feature-wise addition.\n",
        "- Allows the model to adapt its behavior dynamically depending on the timestep.\n",
        "\n",
        "---\n",
        "\n",
        "### 🔥 3. **U-Net Architecture**\n",
        "\n",
        "- A symmetric encoder-decoder structure with skip connections.\n",
        "- Captures both global structure (via downsampling) and local details (via skip connections).\n",
        "- Scales effectively with input size and complexity.\n",
        "- Standard backbone in most diffusion models (including Stable Diffusion, DALL·E 2, and Imagen).\n",
        "\n",
        "---\n",
        "\n",
        "### 🔥 4. **Exponential Moving Average (EMA)**\n",
        "\n",
        "- Maintains a smoothed version of the model weights.\n",
        "- EMA weights are used for sampling, providing:\n",
        "  - More stable outputs.\n",
        "  - Higher quality generations.\n",
        "- Does not participate in backpropagation — purely an auxiliary model for inference.\n",
        "\n",
        "---\n",
        "\n",
        "### 🔥 5. **Cosine Beta Schedule**\n",
        "\n",
        "- Controls the noise addition over time.\n",
        "- Compared to linear schedules:\n",
        "  - Preserves more structure in early steps.\n",
        "  - Leads to smoother training and better final image quality.\n",
        "- Formula based on cosine decay of signal-to-noise ratio.\n",
        "\n",
        "---\n",
        "\n",
        "### 🔥 6. **Learning Rate Scheduler (Cosine Annealing)**\n",
        "\n",
        "- Reduces learning rate following a cosine curve as training progresses.\n",
        "- Benefits:\n",
        "  - High learning rate in early epochs → faster convergence.\n",
        "  - Smooth decay later → prevents overshooting and overfitting.\n",
        "\n",
        "---\n",
        "\n",
        "### 🔥 7. **Mean Squared Error (MSE) Loss**\n",
        "\n",
        "- The core loss function for DDPM:\n",
        "  - The model predicts the noise added to the image at a given timestep.\n",
        "  - Loss is the MSE between the true noise and predicted noise.\n",
        "- Simple yet effective for learning the reverse denoising process.\n",
        "\n",
        "---\n",
        "\n",
        "## ✅ Full Pipeline Overview\n",
        "\n",
        "```plaintext\n",
        "1. Sample a clean image x₀.\n",
        "2. Apply forward diffusion to get xₜ at random timestep t.\n",
        "3. The model predicts the noise ε given (xₜ, t).\n",
        "4. Compute MSE loss between predicted noise and true noise.\n",
        "5. Update model parameters with Adam optimizer.\n",
        "6. Update EMA weights.\n",
        "7. Apply cosine annealing to learning rate.\n"
      ],
      "metadata": {
        "id": "edTy9g84nXGl"
      }
    },
    {
      "cell_type": "code",
      "execution_count": 2,
      "metadata": {
        "id": "V5LIZgJOsz3e"
      },
      "outputs": [],
      "source": [
        "import math\n",
        "import torch\n",
        "import torch.nn as nn\n",
        "import torch.optim as optim\n",
        "from torch.utils.data import DataLoader\n",
        "from torchvision import datasets, transforms\n",
        "import matplotlib.pyplot as plt\n",
        "import numpy as np\n",
        "from tqdm import tqdm\n",
        "from copy import deepcopy"
      ]
    },
    {
      "cell_type": "markdown",
      "source": [
        "# 📘 Exponential Moving Average (EMA) Summary\n",
        "\n",
        "## 🔍 What is EMA?\n",
        "\n",
        "**Exponential Moving Average (EMA)** is a technique to maintain a **smoothed version of the model parameters** during training.\n",
        "\n",
        "It reduces noise and oscillations in parameter updates, resulting in **better stability and higher-quality results**, especially in generative models like diffusion models.\n",
        "\n",
        "---\n",
        "\n",
        "## ⚙️ EMA Update Formula\n",
        "\n",
        "The EMA update rule for parameter $\\theta_t$ at training step $t$ is:\n",
        "\n",
        "$$\n",
        "\\theta_t^{EMA} = \\alpha \\cdot \\theta_{t-1}^{EMA} + (1 - \\alpha) \\cdot \\theta_t\n",
        "$$\n",
        "\n",
        "Where:\n",
        "- $\\alpha$ = `ema_decay` (typically close to 1, e.g., 0.999 or 0.9999)\n",
        "- $\\theta_t$ = current parameter at step $t$\n",
        "- $\\theta_t^{EMA}$ = EMA (shadow) parameter\n",
        "\n",
        "---\n",
        "\n",
        "## 🔥 Purpose of EMA\n",
        "\n",
        "- ✅ Smooths out noisy, high-variance updates.\n",
        "- ✅ Provides a **more stable parameter set for inference/sampling**.\n",
        "- ❌ EMA does **not** participate in gradient computation or backpropagation.\n",
        "\n",
        "---\n",
        "\n",
        "## 🚀 Workflow\n",
        "\n",
        "### 1. **Training Stage**:\n",
        "- Use the current model (`model`) for forward and backward propagation.\n",
        "- Update parameters via gradient descent (`optimizer.step()`).\n",
        "- After each step, update EMA parameters (`ema_model`) using the EMA formula.\n",
        "\n",
        "### 2. **Inference Stage**:\n",
        "- Use `ema_model` parameters for sampling/generation.\n",
        "- EMA parameters are smoother and yield higher-quality outputs.\n"
      ],
      "metadata": {
        "id": "oag_SvCbmkVL"
      }
    },
    {
      "cell_type": "code",
      "source": [
        "# 1. Device & Hyperparameters\n",
        "device = torch.device('cuda' if torch.cuda.is_available() else 'cpu')\n",
        "print('Using device:', device)\n",
        "\n",
        "batch_size = 128\n",
        "lr = 2e-4\n",
        "num_epochs = 50             # train longer\n",
        "img_size = 28\n",
        "num_diffusion_steps = 1000\n",
        "ema_decay = 0.9999"
      ],
      "metadata": {
        "colab": {
          "base_uri": "https://localhost:8080/"
        },
        "id": "p801SHZIuwP1",
        "outputId": "bb9f89ff-a960-41c6-c92a-6a08bfc966cb"
      },
      "execution_count": null,
      "outputs": [
        {
          "output_type": "stream",
          "name": "stdout",
          "text": [
            "Using device: cuda\n"
          ]
        }
      ]
    },
    {
      "cell_type": "markdown",
      "source": [
        "# We try to use consine **Beta Schedule** instead of regular linear in order to\n",
        "* ✅ Much better preservation of the signal.\n",
        "\n",
        "* ✅ Leads to higher image quality and better training stability.\n",
        "\n",
        "* ✅ Now widely adopted in modern diffusion models."
      ],
      "metadata": {
        "id": "km3ezBSz0Ir7"
      }
    },
    {
      "cell_type": "code",
      "source": [
        "# 2. Cosine Beta Schedule\n",
        "def cosine_beta_schedule(T, s=0.008):\n",
        "    steps = T + 1\n",
        "    x = torch.linspace(0, T, steps)\n",
        "    alphas_cumprod = torch.cos(((x/T) + s)/(1+s) * math.pi/2) ** 2\n",
        "    alphas_cumprod = alphas_cumprod / alphas_cumprod[0]\n",
        "    betas = 1 - (alphas_cumprod[1:] / alphas_cumprod[:-1])\n",
        "    return betas.clamp(max=0.999)\n",
        "\n",
        "betas = cosine_beta_schedule(num_diffusion_steps).to(device)\n",
        "alphas = 1 - betas\n",
        "alpha_bar = torch.cumprod(alphas, dim=0)"
      ],
      "metadata": {
        "id": "JLKAasaN3sqD"
      },
      "execution_count": null,
      "outputs": []
    },
    {
      "cell_type": "markdown",
      "source": [
        "# Here, we try to make the data scaling to [-1,1] to match the ***Guassian Distribution***"
      ],
      "metadata": {
        "id": "eOtMYKED0GvC"
      }
    },
    {
      "cell_type": "code",
      "source": [
        "# 3. Data Loaders (+ scaling to [-1,1] for both train & test)\n",
        "transform = transforms.Compose([\n",
        "    transforms.ToTensor(),\n",
        "    transforms.Lambda(lambda x: x * 2 - 1)\n",
        "])\n",
        "train_ds = datasets.MNIST('./data', train=True, download=True, transform=transform)\n",
        "test_ds  = datasets.MNIST('./data', train=False, download=True, transform=transform)\n",
        "train_loader = DataLoader(train_ds, batch_size=batch_size, shuffle=True)\n",
        "test_loader  = DataLoader(test_ds,  batch_size=batch_size, shuffle=False)\n"
      ],
      "metadata": {
        "id": "Q-YNp9ipvPxS"
      },
      "execution_count": null,
      "outputs": []
    },
    {
      "cell_type": "code",
      "source": [
        "a = np.array([1,2,3,4])\n",
        "print(a)\n",
        "print(a[:,None])\n",
        "print(a[None,:])\n",
        "print(a[None,:,None])"
      ],
      "metadata": {
        "colab": {
          "base_uri": "https://localhost:8080/"
        },
        "id": "4titGeDKxAmF",
        "outputId": "9f827905-0b26-4e3a-dd94-32ff2b3782de"
      },
      "execution_count": 10,
      "outputs": [
        {
          "output_type": "stream",
          "name": "stdout",
          "text": [
            "[1 2 3 4]\n",
            "[[1]\n",
            " [2]\n",
            " [3]\n",
            " [4]]\n",
            "[[1 2 3 4]]\n",
            "[[[1]\n",
            "  [2]\n",
            "  [3]\n",
            "  [4]]]\n"
          ]
        }
      ]
    },
    {
      "cell_type": "markdown",
      "source": [
        "# 🚀 Model Construction for DDPM with Time-Conditional U-Net\n",
        "\n",
        "---\n",
        "\n",
        "## 📘 1. Sinusoidal Positional Embedding\n",
        "\n",
        "### ✅ Purpose:\n",
        "- Convert discrete timestep $t$ into a high-dimensional continuous embedding.\n",
        "- Enables the model to understand \"when\" in the diffusion process it is operating.\n",
        "\n",
        "### ✅ Formula:\n",
        "\n",
        "For each dimension index $i$:\n",
        "\n",
        "- For even $i$:\n",
        "\n",
        "$$\n",
        "PE_{i}(t) = \\sin\\left(t \\cdot 10000^{-i / (d/2)}\\right)\n",
        "$$\n",
        "\n",
        "- For odd $i$:\n",
        "\n",
        "$$\n",
        "PE_{i+1}(t) = \\cos\\left(t \\cdot 10000^{-i / (d/2)}\\right)\n",
        "$$\n",
        "\n",
        "### ✅ Output:\n",
        "- Shape: **(batch_size, time_embedding_dim)**\n",
        "- Combines sine and cosine frequencies to capture both coarse and fine time patterns.\n",
        "\n",
        "---\n",
        "\n",
        "## 🏗️ 2. Residual Block with Time Conditioning\n",
        "\n",
        "### ✅ Structure:\n",
        "- A 2-layer convolution block with residual connections.\n",
        "- Injects time embedding as a bias into feature maps.\n",
        "\n",
        "### ✅ Time Conditioning Mechanism:\n",
        "- Project time embedding $t_{emb}$ using an MLP:\n",
        "\n",
        "$$\n",
        "t_{proj} = \\text{ReLU}(\\text{Linear}(\\text{Linear}(t_{emb})))\n",
        "$$\n",
        "\n",
        "- Add to the feature map with broadcasting:\n",
        "\n",
        "$$\n",
        "h = h + t_{proj}[:, :, None, None]\n",
        "$$\n",
        "\n",
        "### ✅ Residual Connection:\n",
        "- If input and output channels differ, use 1x1 convolution to align dimensions.\n",
        "\n",
        "---\n",
        "\n",
        "## 🔥 3. U-Net Architecture with Time Embedding\n",
        "\n",
        "### ✅ Overall Structure:\n",
        "- Encoder → Bottleneck → Decoder\n",
        "- Skip connections between encoder and decoder stages.\n",
        "\n",
        "---\n",
        "\n",
        "### 🔸 **Time Embedding Block:**\n",
        "\n",
        "- Applies sinusoidal positional encoding followed by an MLP:\n",
        "\n",
        "```plaintext\n",
        "SinusoidalPositionEmbedding → Linear → ReLU → Linear\n"
      ],
      "metadata": {
        "id": "s4FfP4cCmSxV"
      }
    },
    {
      "cell_type": "code",
      "source": [
        "# 4. Model: Time-Conditional U-Net\n",
        "class SinusoidalPositionEmbeddings(nn.Module):\n",
        "    def __init__(self, dim):\n",
        "        super().__init__()\n",
        "        self.dim = dim\n",
        "    def forward(self, time):\n",
        "        half = self.dim // 2\n",
        "        freqs = torch.exp(-math.log(10000) * torch.arange(half, device=time.device) / half)\n",
        "        args = time[:, None].float() * freqs[None]\n",
        "        return torch.cat([torch.sin(args), torch.cos(args)], dim=-1)\n",
        "\n",
        "class ResidualBlock(nn.Module):\n",
        "    def __init__(self, in_ch, out_ch, time_emb_dim):\n",
        "        super().__init__()\n",
        "        self.time_mlp = nn.Sequential(\n",
        "            nn.Linear(time_emb_dim, out_ch),\n",
        "            nn.ReLU()\n",
        "        )\n",
        "        self.conv_block = nn.Sequential(\n",
        "            nn.GroupNorm(1, in_ch),\n",
        "            nn.ReLU(),\n",
        "            nn.Conv2d(in_ch, out_ch, 3, padding=1),\n",
        "            nn.GroupNorm(1, out_ch),\n",
        "            nn.ReLU(),\n",
        "            nn.Conv2d(out_ch, out_ch, 3, padding=1)\n",
        "        )\n",
        "        self.res_conv = nn.Conv2d(in_ch, out_ch, 1) if in_ch != out_ch else nn.Identity()\n",
        "\n",
        "    def forward(self, x, t_emb):\n",
        "        h = self.conv_block(x)\n",
        "        t = self.time_mlp(t_emb)\n",
        "        h = h + t[:, :, None, None]\n",
        "        return h + self.res_conv(x)\n",
        "\n",
        "class TimeUNet(nn.Module):\n",
        "    def __init__(self, in_channels=1, base=64, time_emb_dim=128):\n",
        "        super().__init__()\n",
        "        # time embedding\n",
        "        self.time_mlp = nn.Sequential(\n",
        "            SinusoidalPositionEmbeddings(time_emb_dim),\n",
        "            nn.Linear(time_emb_dim, time_emb_dim),\n",
        "            nn.ReLU(),\n",
        "            nn.Linear(time_emb_dim, time_emb_dim)\n",
        "        )\n",
        "        # encoder\n",
        "        self.enc1 = ResidualBlock(in_channels, base, time_emb_dim)\n",
        "        self.enc2 = ResidualBlock(base, base*2, time_emb_dim)\n",
        "        self.enc3 = ResidualBlock(base*2, base*4, time_emb_dim)\n",
        "        self.pool = nn.MaxPool2d(2)\n",
        "        # bottleneck\n",
        "        self.bottleneck = ResidualBlock(base*4, base*8, time_emb_dim)\n",
        "        # decoder\n",
        "        self.up1 = nn.ConvTranspose2d(base*8, base*4, kernel_size=2, stride=2, output_padding=1)\n",
        "        self.dec3 = ResidualBlock(base*8, base*4, time_emb_dim)\n",
        "        self.up2 = nn.ConvTranspose2d(base*4, base*2, kernel_size=2, stride=2)\n",
        "        self.dec2 = ResidualBlock(base*4, base*2, time_emb_dim)\n",
        "        self.up3 = nn.ConvTranspose2d(base*2, base, kernel_size=2, stride=2)\n",
        "        self.dec1 = ResidualBlock(base*2, base, time_emb_dim)\n",
        "        # final conv\n",
        "        self.final = nn.Conv2d(base, in_channels, 1)\n",
        "\n",
        "    def forward(self, x, t):\n",
        "        # time\n",
        "        t_emb = self.time_mlp(t)\n",
        "        # encode\n",
        "        e1 = self.enc1(x, t_emb)            # 28x28\n",
        "        e2 = self.enc2(self.pool(e1), t_emb) # 14x14\n",
        "        e3 = self.enc3(self.pool(e2), t_emb) # 7x7\n",
        "        # bottleneck\n",
        "        b = self.bottleneck(self.pool(e3), t_emb) # 3x3\n",
        "        # decode\n",
        "        d3 = self.up1(b)                    # 7x7\n",
        "        d3 = torch.cat([d3, e3], dim=1)\n",
        "        d3 = self.dec3(d3, t_emb)           # 7x7\n",
        "        d2 = self.up2(d3)                   # 14x14\n",
        "        d2 = torch.cat([d2, e2], dim=1)\n",
        "        d2 = self.dec2(d2, t_emb)           # 14x14\n",
        "        d1 = self.up3(d2)                   # 28x28\n",
        "        d1 = torch.cat([d1, e1], dim=1)\n",
        "        d1 = self.dec1(d1, t_emb)           # 28x28\n",
        "        return self.final(d1)               # 28x28\n",
        "\n",
        "model = TimeUNet(in_channels=1, base=64, time_emb_dim=128).to(device)\n",
        "ema_model = deepcopy(model).eval()   # EMA copy for sampling\n",
        "for p in ema_model.parameters(): p.requires_grad = False\n",
        "\n",
        "optimizer = optim.Adam(model.parameters(), lr=lr)\n",
        "mse = nn.MSELoss()"
      ],
      "metadata": {
        "id": "fXTmF-FQvf--"
      },
      "execution_count": null,
      "outputs": []
    },
    {
      "cell_type": "markdown",
      "source": [
        "# 🔥 ✅ Why Use CosineAnnealingLR in DDPM?\n",
        "## Helps the optimizer:\n",
        "\n",
        "* Explore faster at the beginning (high lr).\n",
        "\n",
        "* Converge smoothly as training finishes (lr → 0).\n",
        "\n",
        "* Reduces the risk of overshooting minima at later stages.\n",
        "\n",
        "* Makes training more stable in the final epochs when the model starts overfitting noise patterns.\n",
        "\n",
        "✅ Widely adopted in DDPMs, Stable Diffusion, OpenAI GLIDE, and similar diffusion models."
      ],
      "metadata": {
        "id": "-VJfDPORFL-2"
      }
    },
    {
      "cell_type": "code",
      "source": [
        "# 5. Cosine LR Schedule\n",
        "scheduler = optim.lr_scheduler.CosineAnnealingLR(optimizer, T_max=num_epochs)"
      ],
      "metadata": {
        "id": "62kOgfbb36xq"
      },
      "execution_count": null,
      "outputs": []
    },
    {
      "cell_type": "code",
      "source": [
        "# 6. Training Loop with EMA\n",
        "losses = []\n",
        "for epoch in range(num_epochs):\n",
        "    pbar = tqdm(train_loader, desc=f\"Epoch {epoch+1}/{num_epochs}\")\n",
        "    epoch_loss = 0.0\n",
        "    for imgs, _ in pbar:\n",
        "        imgs = imgs.to(device)\n",
        "        B = imgs.size(0)\n",
        "        t = torch.randint(0, num_diffusion_steps, (B,), device=device)\n",
        "        noise = torch.randn_like(imgs)\n",
        "\n",
        "        a_bar_t = alpha_bar[t][:, None, None, None]\n",
        "        noisy = torch.sqrt(a_bar_t) * imgs + torch.sqrt(1 - a_bar_t) * noise\n",
        "\n",
        "        pred_noise = model(noisy, t)\n",
        "        loss = mse(pred_noise, noise)\n",
        "\n",
        "        optimizer.zero_grad()\n",
        "        loss.backward()\n",
        "        optimizer.step()\n",
        "\n",
        "        # EMA update\n",
        "        with torch.no_grad():\n",
        "            for p, ema_p in zip(model.parameters(), ema_model.parameters()):\n",
        "                ema_p.mul_(ema_decay).add_(p, alpha=1-ema_decay)\n",
        "\n",
        "        epoch_loss += loss.item()\n",
        "        pbar.set_postfix(loss=loss.item())\n",
        "\n",
        "    scheduler.step()\n",
        "    avg = epoch_loss / len(train_loader)\n",
        "    losses.append(avg)\n",
        "    print(f\"Epoch {epoch+1} avg loss: {avg:.4f}\")\n"
      ],
      "metadata": {
        "colab": {
          "base_uri": "https://localhost:8080/"
        },
        "id": "AFvj3tqsvk3D",
        "outputId": "43eda492-c21b-4931-ae54-fb581a394097"
      },
      "execution_count": null,
      "outputs": [
        {
          "output_type": "stream",
          "name": "stderr",
          "text": [
            "Epoch 1/50: 100%|██████████| 469/469 [00:17<00:00, 27.18it/s, loss=0.0628]\n"
          ]
        },
        {
          "output_type": "stream",
          "name": "stdout",
          "text": [
            "Epoch 1 avg loss: 0.1024\n"
          ]
        },
        {
          "output_type": "stream",
          "name": "stderr",
          "text": [
            "Epoch 2/50: 100%|██████████| 469/469 [00:17<00:00, 27.34it/s, loss=0.0572]\n"
          ]
        },
        {
          "output_type": "stream",
          "name": "stdout",
          "text": [
            "Epoch 2 avg loss: 0.0584\n"
          ]
        },
        {
          "output_type": "stream",
          "name": "stderr",
          "text": [
            "Epoch 3/50: 100%|██████████| 469/469 [00:17<00:00, 27.02it/s, loss=0.0555]\n"
          ]
        },
        {
          "output_type": "stream",
          "name": "stdout",
          "text": [
            "Epoch 3 avg loss: 0.0511\n"
          ]
        },
        {
          "output_type": "stream",
          "name": "stderr",
          "text": [
            "Epoch 4/50: 100%|██████████| 469/469 [00:17<00:00, 27.06it/s, loss=0.0425]\n"
          ]
        },
        {
          "output_type": "stream",
          "name": "stdout",
          "text": [
            "Epoch 4 avg loss: 0.0484\n"
          ]
        },
        {
          "output_type": "stream",
          "name": "stderr",
          "text": [
            "Epoch 5/50: 100%|██████████| 469/469 [00:17<00:00, 27.20it/s, loss=0.0568]\n"
          ]
        },
        {
          "output_type": "stream",
          "name": "stdout",
          "text": [
            "Epoch 5 avg loss: 0.0468\n"
          ]
        },
        {
          "output_type": "stream",
          "name": "stderr",
          "text": [
            "Epoch 6/50: 100%|██████████| 469/469 [00:17<00:00, 27.33it/s, loss=0.0536]\n"
          ]
        },
        {
          "output_type": "stream",
          "name": "stdout",
          "text": [
            "Epoch 6 avg loss: 0.0450\n"
          ]
        },
        {
          "output_type": "stream",
          "name": "stderr",
          "text": [
            "Epoch 7/50: 100%|██████████| 469/469 [00:17<00:00, 27.19it/s, loss=0.0463]\n"
          ]
        },
        {
          "output_type": "stream",
          "name": "stdout",
          "text": [
            "Epoch 7 avg loss: 0.0449\n"
          ]
        },
        {
          "output_type": "stream",
          "name": "stderr",
          "text": [
            "Epoch 8/50: 100%|██████████| 469/469 [00:17<00:00, 27.03it/s, loss=0.0359]\n"
          ]
        },
        {
          "output_type": "stream",
          "name": "stdout",
          "text": [
            "Epoch 8 avg loss: 0.0446\n"
          ]
        },
        {
          "output_type": "stream",
          "name": "stderr",
          "text": [
            "Epoch 9/50: 100%|██████████| 469/469 [00:17<00:00, 27.16it/s, loss=0.0509]\n"
          ]
        },
        {
          "output_type": "stream",
          "name": "stdout",
          "text": [
            "Epoch 9 avg loss: 0.0435\n"
          ]
        },
        {
          "output_type": "stream",
          "name": "stderr",
          "text": [
            "Epoch 10/50: 100%|██████████| 469/469 [00:17<00:00, 26.99it/s, loss=0.0463]\n"
          ]
        },
        {
          "output_type": "stream",
          "name": "stdout",
          "text": [
            "Epoch 10 avg loss: 0.0429\n"
          ]
        },
        {
          "output_type": "stream",
          "name": "stderr",
          "text": [
            "Epoch 11/50: 100%|██████████| 469/469 [00:17<00:00, 26.89it/s, loss=0.0519]\n"
          ]
        },
        {
          "output_type": "stream",
          "name": "stdout",
          "text": [
            "Epoch 11 avg loss: 0.0420\n"
          ]
        },
        {
          "output_type": "stream",
          "name": "stderr",
          "text": [
            "Epoch 12/50: 100%|██████████| 469/469 [00:17<00:00, 27.05it/s, loss=0.0386]\n"
          ]
        },
        {
          "output_type": "stream",
          "name": "stdout",
          "text": [
            "Epoch 12 avg loss: 0.0420\n"
          ]
        },
        {
          "output_type": "stream",
          "name": "stderr",
          "text": [
            "Epoch 13/50: 100%|██████████| 469/469 [00:17<00:00, 26.94it/s, loss=0.0387]\n"
          ]
        },
        {
          "output_type": "stream",
          "name": "stdout",
          "text": [
            "Epoch 13 avg loss: 0.0416\n"
          ]
        },
        {
          "output_type": "stream",
          "name": "stderr",
          "text": [
            "Epoch 14/50: 100%|██████████| 469/469 [00:17<00:00, 26.96it/s, loss=0.0358]\n"
          ]
        },
        {
          "output_type": "stream",
          "name": "stdout",
          "text": [
            "Epoch 14 avg loss: 0.0418\n"
          ]
        },
        {
          "output_type": "stream",
          "name": "stderr",
          "text": [
            "Epoch 15/50: 100%|██████████| 469/469 [00:17<00:00, 26.99it/s, loss=0.0445]\n"
          ]
        },
        {
          "output_type": "stream",
          "name": "stdout",
          "text": [
            "Epoch 15 avg loss: 0.0412\n"
          ]
        },
        {
          "output_type": "stream",
          "name": "stderr",
          "text": [
            "Epoch 16/50: 100%|██████████| 469/469 [00:17<00:00, 26.55it/s, loss=0.0403]\n"
          ]
        },
        {
          "output_type": "stream",
          "name": "stdout",
          "text": [
            "Epoch 16 avg loss: 0.0413\n"
          ]
        },
        {
          "output_type": "stream",
          "name": "stderr",
          "text": [
            "Epoch 17/50: 100%|██████████| 469/469 [00:17<00:00, 26.77it/s, loss=0.0493]\n"
          ]
        },
        {
          "output_type": "stream",
          "name": "stdout",
          "text": [
            "Epoch 17 avg loss: 0.0406\n"
          ]
        },
        {
          "output_type": "stream",
          "name": "stderr",
          "text": [
            "Epoch 18/50: 100%|██████████| 469/469 [00:17<00:00, 26.84it/s, loss=0.0461]\n"
          ]
        },
        {
          "output_type": "stream",
          "name": "stdout",
          "text": [
            "Epoch 18 avg loss: 0.0403\n"
          ]
        },
        {
          "output_type": "stream",
          "name": "stderr",
          "text": [
            "Epoch 19/50: 100%|██████████| 469/469 [00:17<00:00, 26.52it/s, loss=0.0467]\n"
          ]
        },
        {
          "output_type": "stream",
          "name": "stdout",
          "text": [
            "Epoch 19 avg loss: 0.0403\n"
          ]
        },
        {
          "output_type": "stream",
          "name": "stderr",
          "text": [
            "Epoch 20/50: 100%|██████████| 469/469 [00:17<00:00, 26.81it/s, loss=0.045]\n"
          ]
        },
        {
          "output_type": "stream",
          "name": "stdout",
          "text": [
            "Epoch 20 avg loss: 0.0402\n"
          ]
        },
        {
          "output_type": "stream",
          "name": "stderr",
          "text": [
            "Epoch 21/50: 100%|██████████| 469/469 [00:17<00:00, 26.70it/s, loss=0.0452]\n"
          ]
        },
        {
          "output_type": "stream",
          "name": "stdout",
          "text": [
            "Epoch 21 avg loss: 0.0400\n"
          ]
        },
        {
          "output_type": "stream",
          "name": "stderr",
          "text": [
            "Epoch 22/50: 100%|██████████| 469/469 [00:17<00:00, 26.60it/s, loss=0.0442]\n"
          ]
        },
        {
          "output_type": "stream",
          "name": "stdout",
          "text": [
            "Epoch 22 avg loss: 0.0397\n"
          ]
        },
        {
          "output_type": "stream",
          "name": "stderr",
          "text": [
            "Epoch 23/50: 100%|██████████| 469/469 [00:17<00:00, 26.66it/s, loss=0.0372]\n"
          ]
        },
        {
          "output_type": "stream",
          "name": "stdout",
          "text": [
            "Epoch 23 avg loss: 0.0393\n"
          ]
        },
        {
          "output_type": "stream",
          "name": "stderr",
          "text": [
            "Epoch 24/50: 100%|██████████| 469/469 [00:17<00:00, 27.09it/s, loss=0.043]\n"
          ]
        },
        {
          "output_type": "stream",
          "name": "stdout",
          "text": [
            "Epoch 24 avg loss: 0.0396\n"
          ]
        },
        {
          "output_type": "stream",
          "name": "stderr",
          "text": [
            "Epoch 25/50: 100%|██████████| 469/469 [00:17<00:00, 26.35it/s, loss=0.0445]\n"
          ]
        },
        {
          "output_type": "stream",
          "name": "stdout",
          "text": [
            "Epoch 25 avg loss: 0.0393\n"
          ]
        },
        {
          "output_type": "stream",
          "name": "stderr",
          "text": [
            "Epoch 26/50: 100%|██████████| 469/469 [00:17<00:00, 26.67it/s, loss=0.0457]\n"
          ]
        },
        {
          "output_type": "stream",
          "name": "stdout",
          "text": [
            "Epoch 26 avg loss: 0.0393\n"
          ]
        },
        {
          "output_type": "stream",
          "name": "stderr",
          "text": [
            "Epoch 27/50: 100%|██████████| 469/469 [00:17<00:00, 26.68it/s, loss=0.0422]\n"
          ]
        },
        {
          "output_type": "stream",
          "name": "stdout",
          "text": [
            "Epoch 27 avg loss: 0.0389\n"
          ]
        },
        {
          "output_type": "stream",
          "name": "stderr",
          "text": [
            "Epoch 28/50: 100%|██████████| 469/469 [00:17<00:00, 26.62it/s, loss=0.0448]\n"
          ]
        },
        {
          "output_type": "stream",
          "name": "stdout",
          "text": [
            "Epoch 28 avg loss: 0.0389\n"
          ]
        },
        {
          "output_type": "stream",
          "name": "stderr",
          "text": [
            "Epoch 29/50: 100%|██████████| 469/469 [00:17<00:00, 26.68it/s, loss=0.042]\n"
          ]
        },
        {
          "output_type": "stream",
          "name": "stdout",
          "text": [
            "Epoch 29 avg loss: 0.0390\n"
          ]
        },
        {
          "output_type": "stream",
          "name": "stderr",
          "text": [
            "Epoch 30/50: 100%|██████████| 469/469 [00:17<00:00, 26.71it/s, loss=0.0379]\n"
          ]
        },
        {
          "output_type": "stream",
          "name": "stdout",
          "text": [
            "Epoch 30 avg loss: 0.0383\n"
          ]
        },
        {
          "output_type": "stream",
          "name": "stderr",
          "text": [
            "Epoch 31/50: 100%|██████████| 469/469 [00:17<00:00, 26.78it/s, loss=0.032]\n"
          ]
        },
        {
          "output_type": "stream",
          "name": "stdout",
          "text": [
            "Epoch 31 avg loss: 0.0385\n"
          ]
        },
        {
          "output_type": "stream",
          "name": "stderr",
          "text": [
            "Epoch 32/50: 100%|██████████| 469/469 [00:17<00:00, 26.75it/s, loss=0.0404]\n"
          ]
        },
        {
          "output_type": "stream",
          "name": "stdout",
          "text": [
            "Epoch 32 avg loss: 0.0379\n"
          ]
        },
        {
          "output_type": "stream",
          "name": "stderr",
          "text": [
            "Epoch 33/50: 100%|██████████| 469/469 [00:17<00:00, 26.87it/s, loss=0.0341]\n"
          ]
        },
        {
          "output_type": "stream",
          "name": "stdout",
          "text": [
            "Epoch 33 avg loss: 0.0380\n"
          ]
        },
        {
          "output_type": "stream",
          "name": "stderr",
          "text": [
            "Epoch 34/50: 100%|██████████| 469/469 [00:17<00:00, 26.93it/s, loss=0.0358]\n"
          ]
        },
        {
          "output_type": "stream",
          "name": "stdout",
          "text": [
            "Epoch 34 avg loss: 0.0380\n"
          ]
        },
        {
          "output_type": "stream",
          "name": "stderr",
          "text": [
            "Epoch 35/50: 100%|██████████| 469/469 [00:17<00:00, 27.13it/s, loss=0.0434]\n"
          ]
        },
        {
          "output_type": "stream",
          "name": "stdout",
          "text": [
            "Epoch 35 avg loss: 0.0379\n"
          ]
        },
        {
          "output_type": "stream",
          "name": "stderr",
          "text": [
            "Epoch 36/50: 100%|██████████| 469/469 [00:17<00:00, 27.09it/s, loss=0.032]\n"
          ]
        },
        {
          "output_type": "stream",
          "name": "stdout",
          "text": [
            "Epoch 36 avg loss: 0.0381\n"
          ]
        },
        {
          "output_type": "stream",
          "name": "stderr",
          "text": [
            "Epoch 37/50: 100%|██████████| 469/469 [00:17<00:00, 27.09it/s, loss=0.0384]\n"
          ]
        },
        {
          "output_type": "stream",
          "name": "stdout",
          "text": [
            "Epoch 37 avg loss: 0.0381\n"
          ]
        },
        {
          "output_type": "stream",
          "name": "stderr",
          "text": [
            "Epoch 38/50: 100%|██████████| 469/469 [00:17<00:00, 27.15it/s, loss=0.0402]\n"
          ]
        },
        {
          "output_type": "stream",
          "name": "stdout",
          "text": [
            "Epoch 38 avg loss: 0.0373\n"
          ]
        },
        {
          "output_type": "stream",
          "name": "stderr",
          "text": [
            "Epoch 39/50: 100%|██████████| 469/469 [00:17<00:00, 27.10it/s, loss=0.0356]\n"
          ]
        },
        {
          "output_type": "stream",
          "name": "stdout",
          "text": [
            "Epoch 39 avg loss: 0.0376\n"
          ]
        },
        {
          "output_type": "stream",
          "name": "stderr",
          "text": [
            "Epoch 40/50: 100%|██████████| 469/469 [00:17<00:00, 27.13it/s, loss=0.0342]\n"
          ]
        },
        {
          "output_type": "stream",
          "name": "stdout",
          "text": [
            "Epoch 40 avg loss: 0.0374\n"
          ]
        },
        {
          "output_type": "stream",
          "name": "stderr",
          "text": [
            "Epoch 41/50: 100%|██████████| 469/469 [00:17<00:00, 27.19it/s, loss=0.0347]\n"
          ]
        },
        {
          "output_type": "stream",
          "name": "stdout",
          "text": [
            "Epoch 41 avg loss: 0.0373\n"
          ]
        },
        {
          "output_type": "stream",
          "name": "stderr",
          "text": [
            "Epoch 42/50: 100%|██████████| 469/469 [00:17<00:00, 27.10it/s, loss=0.0355]\n"
          ]
        },
        {
          "output_type": "stream",
          "name": "stdout",
          "text": [
            "Epoch 42 avg loss: 0.0373\n"
          ]
        },
        {
          "output_type": "stream",
          "name": "stderr",
          "text": [
            "Epoch 43/50: 100%|██████████| 469/469 [00:17<00:00, 27.05it/s, loss=0.0394]\n"
          ]
        },
        {
          "output_type": "stream",
          "name": "stdout",
          "text": [
            "Epoch 43 avg loss: 0.0374\n"
          ]
        },
        {
          "output_type": "stream",
          "name": "stderr",
          "text": [
            "Epoch 44/50: 100%|██████████| 469/469 [00:17<00:00, 27.27it/s, loss=0.0337]\n"
          ]
        },
        {
          "output_type": "stream",
          "name": "stdout",
          "text": [
            "Epoch 44 avg loss: 0.0374\n"
          ]
        },
        {
          "output_type": "stream",
          "name": "stderr",
          "text": [
            "Epoch 45/50: 100%|██████████| 469/469 [00:17<00:00, 27.10it/s, loss=0.0436]\n"
          ]
        },
        {
          "output_type": "stream",
          "name": "stdout",
          "text": [
            "Epoch 45 avg loss: 0.0374\n"
          ]
        },
        {
          "output_type": "stream",
          "name": "stderr",
          "text": [
            "Epoch 46/50: 100%|██████████| 469/469 [00:17<00:00, 27.19it/s, loss=0.0426]\n"
          ]
        },
        {
          "output_type": "stream",
          "name": "stdout",
          "text": [
            "Epoch 46 avg loss: 0.0374\n"
          ]
        },
        {
          "output_type": "stream",
          "name": "stderr",
          "text": [
            "Epoch 47/50: 100%|██████████| 469/469 [00:17<00:00, 27.10it/s, loss=0.0374]\n"
          ]
        },
        {
          "output_type": "stream",
          "name": "stdout",
          "text": [
            "Epoch 47 avg loss: 0.0372\n"
          ]
        },
        {
          "output_type": "stream",
          "name": "stderr",
          "text": [
            "Epoch 48/50: 100%|██████████| 469/469 [00:17<00:00, 27.26it/s, loss=0.033]\n"
          ]
        },
        {
          "output_type": "stream",
          "name": "stdout",
          "text": [
            "Epoch 48 avg loss: 0.0370\n"
          ]
        },
        {
          "output_type": "stream",
          "name": "stderr",
          "text": [
            "Epoch 49/50: 100%|██████████| 469/469 [00:17<00:00, 26.96it/s, loss=0.0391]\n"
          ]
        },
        {
          "output_type": "stream",
          "name": "stdout",
          "text": [
            "Epoch 49 avg loss: 0.0372\n"
          ]
        },
        {
          "output_type": "stream",
          "name": "stderr",
          "text": [
            "Epoch 50/50: 100%|██████████| 469/469 [00:17<00:00, 26.78it/s, loss=0.0364]"
          ]
        },
        {
          "output_type": "stream",
          "name": "stdout",
          "text": [
            "Epoch 50 avg loss: 0.0375\n"
          ]
        },
        {
          "output_type": "stream",
          "name": "stderr",
          "text": [
            "\n"
          ]
        }
      ]
    },
    {
      "cell_type": "code",
      "source": [
        "import matplotlib.pyplot as plt\n",
        "\n",
        "# 1) Loss curve\n",
        "plt.figure(figsize=(8, 5))\n",
        "plt.plot(range(1, len(losses) + 1), losses, marker='o')\n",
        "plt.xlabel('Epoch')\n",
        "plt.ylabel('Average MSE Loss')\n",
        "plt.title('DDPM Training Loss per Epoch')\n",
        "plt.grid(True)\n",
        "plt.show()\n",
        "\n",
        "# 2) Original vs. Reconstructed\n",
        "model.eval()\n",
        "with torch.no_grad():\n",
        "    imgs, _ = next(iter(test_loader))\n",
        "    imgs = imgs.to(device)\n",
        "    B = imgs.size(0)\n",
        "    t = torch.randint(0, num_diffusion_steps, (B,), device=device)\n",
        "    noise = torch.randn_like(imgs)\n",
        "    a_bar_t = alpha_bar[t][:, None, None, None]\n",
        "    noisy = torch.sqrt(a_bar_t) * imgs + torch.sqrt(1 - a_bar_t) * noise\n",
        "    pred_noise = model(noisy, t)\n",
        "    reconstructed = (noisy - torch.sqrt(1 - a_bar_t) * pred_noise) / torch.sqrt(a_bar_t)\n",
        "\n",
        "n = min(8, B)\n",
        "fig, axes = plt.subplots(2, n, figsize=(n * 1.5, 4))\n",
        "for i in range(n):\n",
        "    axes[0, i].imshow(imgs[i].cpu().squeeze(), cmap='gray')\n",
        "    axes[0, i].axis('off')\n",
        "    axes[1, i].imshow(reconstructed[i].cpu().squeeze(), cmap='gray')\n",
        "    axes[1, i].axis('off')\n",
        "axes[0, 0].set_ylabel('Original', fontsize=12)\n",
        "axes[1, 0].set_ylabel('Reconstructed', fontsize=12)\n",
        "plt.suptitle('Original vs. Reconstructed')\n",
        "plt.show()\n"
      ],
      "metadata": {
        "colab": {
          "base_uri": "https://localhost:8080/",
          "height": 834
        },
        "id": "dXX3nzG3zDm7",
        "outputId": "7a22330f-75f3-4d6f-9ce1-4b7fe52a72d0"
      },
      "execution_count": null,
      "outputs": [
        {
          "output_type": "display_data",
          "data": {
            "text/plain": [
              "<Figure size 800x500 with 1 Axes>"
            ],
            "image/png": "[encoded data removed]"
          },
          "metadata": {}
        },
        {
          "output_type": "display_data",
          "data": {
            "text/plain": [
              "<Figure size 1200x400 with 16 Axes>"
            ],
            "image/png": "[encoded data removed]"
          },
          "metadata": {}
        }
      ]
    }
  ]
}